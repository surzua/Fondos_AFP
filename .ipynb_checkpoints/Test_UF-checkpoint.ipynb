{
 "cells": [
  {
   "cell_type": "code",
   "execution_count": 10,
   "id": "01fd4168-a6bf-40be-818f-61bc65dc27fe",
   "metadata": {},
   "outputs": [],
   "source": [
    "import requests\n",
    "from datetime import datetime\n"
   ]
  },
  {
   "cell_type": "code",
   "execution_count": 2,
   "id": "644fb95d-4a1a-4b48-a374-2ef54a1db04a",
   "metadata": {},
   "outputs": [],
   "source": [
    "apikey = '954cbe000ee25b1f6935bf5a5ee1877396321510'\n",
    "formato = 'JSON'\n",
    "url = 'https://api.sbif.cl/api-sbifv3/recursos_api/uf?apikey=' + apikey + '&formato=' + formato\n",
    "r = requests.get(url)"
   ]
  },
  {
   "cell_type": "code",
   "execution_count": 14,
   "id": "93894a8f-0d8c-42df-bee1-5f818c48948e",
   "metadata": {},
   "outputs": [],
   "source": [
    "fecha_query = '2022-07-01'\n",
    "fecha_query = datetime.strptime(fecha_query, '%Y-%m-%d')\n",
    "url2 = 'https://api.sbif.cl/api-sbifv3/recursos_api/uf/' + fecha_query.strftime('%Y/%m') + '/dias/' + fecha_query.strftime('%d') + '?apikey=' + apikey + '&formato=' + formato\n",
    "r2 = requests.get(url2)"
   ]
  },
  {
   "cell_type": "code",
   "execution_count": null,
   "id": "9f3f4efa-0e37-439e-85d8-bdd9020dfc21",
   "metadata": {},
   "outputs": [],
   "source": [
    "def get_UF(fecha = None):\n",
    "    '''\n",
    "    Usa APIKEY personal, formato JSON.\n",
    "    Si la fecha no se ingresa, se busca la uf del presente dia\n",
    "    '''\n",
    "    apikey = '954cbe000ee25b1f6935bf5a5ee1877396321510'\n",
    "    formato = 'JSON'\n",
    "    if fecha == None:\n",
    "        url = 'https://api.sbif.cl/api-sbifv3/recursos_api/uf?apikey=' + apikey + '&formato=' + formato\n",
    "    else:\n",
    "        fecha_query = datetime.strptime(fecha, '%Y-%m-%d')\n",
    "        url = 'https://api.sbif.cl/api-sbifv3/recursos_api/uf/' + fecha_query.strftime('%Y/%m') + '/dias/' + fecha_query.strftime('%d') + '?apikey=' + apikey + '&formato=' + formato\n",
    "    r = requests.get(url)"
   ]
  },
  {
   "cell_type": "code",
   "execution_count": null,
   "id": "4edfb96a-cdec-4366-b716-1dfc949ed8e9",
   "metadata": {},
   "outputs": [],
   "source": []
  },
  {
   "cell_type": "code",
   "execution_count": null,
   "id": "55419757-225e-498e-ada8-588c4c7a8261",
   "metadata": {},
   "outputs": [],
   "source": []
  },
  {
   "cell_type": "code",
   "execution_count": 5,
   "id": "e40f162f-fe4e-427e-af47-8e61570bb880",
   "metadata": {},
   "outputs": [
    {
     "name": "stdout",
     "output_type": "stream",
     "text": [
      "<Response [200]>\n"
     ]
    }
   ],
   "source": [
    "print(r)"
   ]
  },
  {
   "cell_type": "code",
   "execution_count": 6,
   "id": "274396ed-9889-46de-9ad0-506a268c66ca",
   "metadata": {},
   "outputs": [
    {
     "name": "stdout",
     "output_type": "stream",
     "text": [
      "{'UFs': [{'Valor': '33.205,45', 'Fecha': '2022-07-09'}]}\n"
     ]
    }
   ],
   "source": [
    "print(r.json())"
   ]
  },
  {
   "cell_type": "code",
   "execution_count": 15,
   "id": "47a43719-72a5-4c7e-b5f3-2b3b52294d8b",
   "metadata": {},
   "outputs": [
    {
     "name": "stdout",
     "output_type": "stream",
     "text": [
      "{'UFs': [{'Valor': '33.099,99', 'Fecha': '2022-07-01'}]}\n"
     ]
    }
   ],
   "source": [
    "print(r2.json())"
   ]
  },
  {
   "cell_type": "code",
   "execution_count": 13,
   "id": "3b0f9db6-53bc-46a0-a6e7-a4d2db87b887",
   "metadata": {},
   "outputs": [
    {
     "name": "stdout",
     "output_type": "stream",
     "text": [
      "2022-07-01 00:00:00\n",
      "2022\n",
      "07\n",
      "01\n"
     ]
    }
   ],
   "source": [
    "fecha_query = '2022-07-01'\n",
    "fecha_query = datetime.strptime(fecha_query, '%Y-%m-%d')\n",
    "print(fecha_query)\n",
    "print(fecha_query.strftime('%Y'))\n",
    "print(fecha_query.strftime('%m'))\n",
    "print(fecha_query.strftime('%d'))"
   ]
  }
 ],
 "metadata": {
  "kernelspec": {
   "display_name": "Python 3 (ipykernel)",
   "language": "python",
   "name": "python3"
  },
  "language_info": {
   "codemirror_mode": {
    "name": "ipython",
    "version": 3
   },
   "file_extension": ".py",
   "mimetype": "text/x-python",
   "name": "python",
   "nbconvert_exporter": "python",
   "pygments_lexer": "ipython3",
   "version": "3.9.7"
  }
 },
 "nbformat": 4,
 "nbformat_minor": 5
}
